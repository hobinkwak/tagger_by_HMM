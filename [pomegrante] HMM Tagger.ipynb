{
 "cells": [
  {
   "cell_type": "code",
   "execution_count": 3,
   "metadata": {
    "ExecuteTime": {
     "end_time": "2021-08-11T18:27:00.345757Z",
     "start_time": "2021-08-11T18:27:00.340770Z"
    }
   },
   "outputs": [],
   "source": [
    "import matplotlib.pyplot as plt\n",
    "import numpy as np\n",
    "from collections import Counter\n",
    "from util_module import Dataset\n",
    "from pomegranate import State, HiddenMarkovModel, DiscreteDistribution"
   ]
  },
  {
   "cell_type": "markdown",
   "metadata": {},
   "source": [
    "## Dataset\n",
    "---\n",
    "텍스트 코퍼스를 읽고 훈련 및 테스트 데이터셋으로 나눔. 데이터는 브라운 코퍼스의 복사본.\n",
    "\n",
    "util_module.py의 Dataset 클래스는 코퍼스 읽어오고 구문 분석 실행. 데이터 집합은 단어 및 해당 태그 모음으로 plaintext에 저장됨. 각 문장은 첫 번째 줄에서 고유 식별자로 시작하고, 그 뒤에 탭으로 구분된 단어/태그 쌍이 다음 줄에서 하나씩 나타남. 문장은 빈 줄로 구분.\n",
    "\n",
    "예시 \n",
    "```\n",
    "b100-38532\n",
    "Perhaps\tADV\n",
    "it\tPRON\n",
    "was\tVERB\n",
    "right\tADJ\n",
    ";\t.\n",
    ";\t.\n",
    "\n",
    "b100-35577\n",
    "...\n",
    "```"
   ]
  },
  {
   "cell_type": "code",
   "execution_count": 4,
   "metadata": {
    "ExecuteTime": {
     "end_time": "2021-08-11T18:27:04.847614Z",
     "start_time": "2021-08-11T18:27:02.866949Z"
    }
   },
   "outputs": [
    {
     "name": "stdout",
     "output_type": "stream",
     "text": [
      "코퍼스에 57340 개의 문장이 있음\n",
      "훈련셋에 45872 개의 문장이 있음\n",
      "검증셋에 11468 개의 문장이 있음+\n"
     ]
    }
   ],
   "source": [
    "data = Dataset(\"tags-universal.txt\", \"brown-universal.txt\", train_test_split=0.8)\n",
    "\n",
    "print(\"코퍼스에 {} 개의 문장이 있음\".format(len(data)))\n",
    "print(\"훈련셋에 {} 개의 문장이 있음\".format(len(data.training_set)))\n",
    "print(\"검증셋에 {} 개의 문장이 있음+\".format(len(data.testing_set)))"
   ]
  },
  {
   "cell_type": "code",
   "execution_count": 5,
   "metadata": {
    "ExecuteTime": {
     "end_time": "2021-08-11T18:27:10.381392Z",
     "start_time": "2021-08-11T18:27:10.366354Z"
    }
   },
   "outputs": [
    {
     "name": "stdout",
     "output_type": "stream",
     "text": [
      "문장: b100-38532\n",
      "단어연쇄:\n",
      "\t('Perhaps', 'it', 'was', 'right', ';', ';')\n",
      "태그:\n",
      "\t('ADV', 'PRON', 'VERB', 'ADJ', '.', '.')\n"
     ]
    }
   ],
   "source": [
    "key = 'b100-38532'\n",
    "print(\"문장: {}\".format(key))\n",
    "print(\"단어연쇄:\\n\\t{!s}\".format(data.sentences[key].words))\n",
    "print(\"태그:\\n\\t{!s}\".format(data.sentences[key].tags))"
   ]
  },
  {
   "cell_type": "code",
   "execution_count": 6,
   "metadata": {
    "ExecuteTime": {
     "end_time": "2021-08-11T18:27:16.100406Z",
     "start_time": "2021-08-11T18:27:16.086613Z"
    }
   },
   "outputs": [
    {
     "name": "stdout",
     "output_type": "stream",
     "text": [
      "Sent 6: ('After', 'television', ',', '``', 'La', 'Dolce', 'Vita', \"''\", 'seems', 'as', 'harmless', 'as', 'a', 'Gray', 'Line', 'tour', 'of', 'North', 'Beach', 'at', 'night', '.')\n",
      "\n",
      "Labels 6: ('ADP', 'NOUN', '.', '.', 'X', 'X', 'X', '.', 'VERB', 'ADV', 'ADJ', 'ADP', 'DET', 'ADJ', 'NOUN', 'NOUN', 'ADP', 'ADJ', 'NOUN', 'ADP', 'NOUN', '.')\n",
      "\n",
      "Sent 7: ('It', 'would', 'give', 'him', 'an', 'opportunity', 'to', 'take', 'the', 'measure', 'of', 'his', 'chief', 'adversary', 'in', 'the', 'cold', 'war', ',', 'to', 'try', 'to', 'probe', 'Mr.', \"Khrushchev's\", 'intentions', 'and', 'to', 'make', 'clear', 'his', 'own', 'views', '.')\n",
      "\n",
      "Labels 7: ('PRON', 'VERB', 'VERB', 'PRON', 'DET', 'NOUN', 'PRT', 'VERB', 'DET', 'NOUN', 'ADP', 'DET', 'ADJ', 'NOUN', 'ADP', 'DET', 'ADJ', 'NOUN', '.', 'PRT', 'VERB', 'PRT', 'VERB', 'NOUN', 'NOUN', 'NOUN', 'CONJ', 'PRT', 'VERB', 'ADJ', 'DET', 'ADJ', 'NOUN', '.')\n",
      "\n"
     ]
    }
   ],
   "source": [
    "for i in range(5, 7):    \n",
    "    print(\"Sent {}:\".format(i + 1), data.X[i])\n",
    "    print()\n",
    "    print(\"Labels {}:\".format(i + 1), data.Y[i])\n",
    "    print()"
   ]
  },
  {
   "cell_type": "code",
   "execution_count": 7,
   "metadata": {
    "ExecuteTime": {
     "end_time": "2021-08-11T18:27:21.610451Z",
     "start_time": "2021-08-11T18:27:21.596438Z"
    }
   },
   "outputs": [
    {
     "name": "stdout",
     "output_type": "stream",
     "text": [
      "('Mr.', 'NOUN')\n",
      "('Podger', 'NOUN')\n",
      "('had', 'VERB')\n",
      "('thanked', 'VERB')\n",
      "('him', 'PRON')\n",
      "('gravely', 'ADV')\n"
     ]
    }
   ],
   "source": [
    "for i, tup in enumerate(data.stream()):\n",
    "    print(tup)\n",
    "    if i > 4: break"
   ]
  },
  {
   "cell_type": "markdown",
   "metadata": {},
   "source": [
    "## 필요한 함수 정의"
   ]
  },
  {
   "cell_type": "code",
   "execution_count": 20,
   "metadata": {
    "ExecuteTime": {
     "end_time": "2021-08-11T18:29:22.429963Z",
     "start_time": "2021-08-11T18:29:21.268763Z"
    }
   },
   "outputs": [],
   "source": [
    "def pair_counts(A, B):\n",
    "\n",
    "    dic = {}\n",
    "    for tag, word in zip(A, B):\n",
    "        if tag not in dic:\n",
    "            dic[tag] = {}\n",
    "        if word not in dic[tag]:\n",
    "            dic[tag][word] = 0\n",
    "        dic[tag][word] += 1\n",
    "    return dic\n",
    "\n",
    "# pair_count는 tag를 먼저 받음\n",
    "word_tag = list(zip(*data.training_set.stream()))\n",
    "emission_counts = pair_counts(*word_tag[::-1])"
   ]
  },
  {
   "cell_type": "code",
   "execution_count": 45,
   "metadata": {
    "ExecuteTime": {
     "end_time": "2021-08-11T18:40:36.200395Z",
     "start_time": "2021-08-11T18:40:36.183441Z"
    }
   },
   "outputs": [],
   "source": [
    "def replace_unknown(sequence):\n",
    "    return [w if w in data.training_set.vocab else 'nan' for w in sequence]\n",
    "\n",
    "def simplify_decoding(X, model):\n",
    "    _, state_path = model.viterbi(replace_unknown(X))\n",
    "    return [state[1].name for state in state_path[1:-1]]"
   ]
  },
  {
   "cell_type": "code",
   "execution_count": 49,
   "metadata": {
    "ExecuteTime": {
     "end_time": "2021-08-11T18:42:20.233453Z",
     "start_time": "2021-08-11T18:42:20.225473Z"
    }
   },
   "outputs": [],
   "source": [
    "def accuracy(X, Y, model):\n",
    "    correct = total_predictions = 0\n",
    "    for observations, actual_tags in zip(X, Y):\n",
    "        try:\n",
    "            most_likely_tags = simplify_decoding(observations, model)\n",
    "            correct += sum(p == t for p, t in zip(most_likely_tags, actual_tags))\n",
    "        except:\n",
    "            pass\n",
    "        total_predictions += len(observations)\n",
    "    return correct / total_predictions"
   ]
  },
  {
   "cell_type": "markdown",
   "metadata": {},
   "source": [
    "## HMM tagger\n",
    "\n",
    "\n",
    "$$t_i^n = \\underset{t_i^n}{\\mathrm{argmax}} \\prod_{i=1}^n P(w_i|t_i) P(t_i|t_{i-1})$$"
   ]
  },
  {
   "cell_type": "markdown",
   "metadata": {},
   "source": [
    "### 유니그램 카운트\n",
    "\n",
    "\n",
    "$$P(tag_1) = \\frac{C(tag_1)}{N}$$"
   ]
  },
  {
   "cell_type": "code",
   "execution_count": 9,
   "metadata": {
    "ExecuteTime": {
     "end_time": "2021-08-11T18:27:44.450098Z",
     "start_time": "2021-08-11T18:27:43.572237Z"
    }
   },
   "outputs": [],
   "source": [
    "def unigram_counts(sequences):\n",
    "    return Counter(list(sequences)[1])\n",
    "\n",
    "tag_unigrams = unigram_counts(zip(*data.training_set.stream()))"
   ]
  },
  {
   "cell_type": "code",
   "execution_count": 10,
   "metadata": {
    "ExecuteTime": {
     "end_time": "2021-08-11T18:27:49.847107Z",
     "start_time": "2021-08-11T18:27:49.834146Z"
    }
   },
   "outputs": [
    {
     "data": {
      "text/plain": [
       "Counter({'ADV': 44877,\n",
       "         'NOUN': 220632,\n",
       "         '.': 117757,\n",
       "         'VERB': 146161,\n",
       "         'ADP': 115808,\n",
       "         'ADJ': 66754,\n",
       "         'CONJ': 30537,\n",
       "         'DET': 109671,\n",
       "         'PRT': 23906,\n",
       "         'NUM': 11878,\n",
       "         'PRON': 39383,\n",
       "         'X': 1094})"
      ]
     },
     "execution_count": 10,
     "metadata": {},
     "output_type": "execute_result"
    }
   ],
   "source": [
    "tag_unigrams"
   ]
  },
  {
   "cell_type": "markdown",
   "metadata": {},
   "source": [
    "### 바이그램 카운트\n",
    "\n",
    "$$P(tag_2|tag_1) = \\frac{C(tag_2|tag_1)}{C(tag_2)}$$\n"
   ]
  },
  {
   "cell_type": "code",
   "execution_count": 11,
   "metadata": {
    "ExecuteTime": {
     "end_time": "2021-08-11T18:27:55.808816Z",
     "start_time": "2021-08-11T18:27:55.250323Z"
    }
   },
   "outputs": [],
   "source": [
    "def bigram_counts(sequences):\n",
    "    d = {}\n",
    "    for seq in sequences:\n",
    "        for i in range(0, len(seq)-1):\n",
    "            if (seq[i], seq[i+1]) not in d.keys(): \n",
    "                d[(seq[i], seq[i+1])] = 0 \n",
    "            d[(seq[i], seq[i+1])] +=1\n",
    "    return d\n",
    "\n",
    "tag_bigrams = bigram_counts(data.training_set.Y)"
   ]
  },
  {
   "cell_type": "markdown",
   "metadata": {},
   "source": [
    "### 스타트 태그 세기"
   ]
  },
  {
   "cell_type": "code",
   "execution_count": 13,
   "metadata": {
    "ExecuteTime": {
     "end_time": "2021-08-11T18:28:06.720852Z",
     "start_time": "2021-08-11T18:28:06.675236Z"
    }
   },
   "outputs": [],
   "source": [
    "def starting_counts(sequences):\n",
    "    d = {}\n",
    "    for seq in sequences:\n",
    "        if seq[0] not in d.keys(): \n",
    "            d[seq[0]] = 0 \n",
    "        d[seq[0]] +=1\n",
    "    return d\n",
    "\n",
    "tag_starts = starting_counts(data.training_set.Y)"
   ]
  },
  {
   "cell_type": "markdown",
   "metadata": {},
   "source": [
    "### 마지막 태그 세기"
   ]
  },
  {
   "cell_type": "code",
   "execution_count": 15,
   "metadata": {
    "ExecuteTime": {
     "end_time": "2021-08-11T18:28:17.545948Z",
     "start_time": "2021-08-11T18:28:17.501117Z"
    }
   },
   "outputs": [],
   "source": [
    "def ending_counts(sequences):\n",
    "    d = {}  \n",
    "    for seq in sequences:\n",
    "        n = len(seq) - 1\n",
    "        if seq[n] not in d.keys(): d[seq[n]] = 0 \n",
    "        d[seq[n]] +=1\n",
    "\n",
    "    return d\n",
    "\n",
    "tag_ends = ending_counts(data.training_set.Y)"
   ]
  },
  {
   "cell_type": "markdown",
   "metadata": {},
   "source": [
    "### HMM 태거\n",
    "\n",
    "- 태그당 하나의 상태\n",
    "    - 각 상태별 방출확률분포: $P(w|t) = \\frac{C(t, w)}{C(t)}$\n",
    "- 초기상태값에 edge더해주기 (다른 상태로)\n",
    "    - 천이확률: $P(t|start) = \\frac{C(start, t)}{C(start)}$\n",
    "- 태그(상태)에서 마지막 태그로\n",
    "    - 이 때의 천이확률: $P(end|t) = \\frac{C(t, end)}{C(t)}$\n",
    "- 각 태그별 천이확률\n",
    "    - $P(t_2|t_1) = \\frac{C(t_1, t_2)}{C(t_1)}$"
   ]
  },
  {
   "cell_type": "code",
   "execution_count": 36,
   "metadata": {
    "ExecuteTime": {
     "end_time": "2021-08-11T18:37:57.423655Z",
     "start_time": "2021-08-11T18:37:57.399769Z"
    }
   },
   "outputs": [],
   "source": [
    "model = HiddenMarkovModel()"
   ]
  },
  {
   "cell_type": "code",
   "execution_count": 37,
   "metadata": {
    "ExecuteTime": {
     "end_time": "2021-08-11T18:38:13.414350Z",
     "start_time": "2021-08-11T18:38:13.336638Z"
    }
   },
   "outputs": [],
   "source": [
    "s = {}\n",
    "states = []\n",
    "for tag in emission_counts.keys():\n",
    "    tag_count = tag_unigrams[tag]\n",
    "    p = {}\n",
    "    for word in emission_counts[tag]:\n",
    "        p[word] = emission_counts[tag][word]/tag_count\n",
    "    emission_p = DiscreteDistribution(p)\n",
    "    state = State(emission_p,name=\"\"+tag)\n",
    "    model.add_state(state)\n",
    "    s[tag] = state "
   ]
  },
  {
   "cell_type": "code",
   "execution_count": 40,
   "metadata": {
    "ExecuteTime": {
     "end_time": "2021-08-11T18:39:32.015552Z",
     "start_time": "2021-08-11T18:39:31.764929Z"
    }
   },
   "outputs": [],
   "source": [
    "for tag in tag_starts:\n",
    "    model.add_transition(model.start, s[tag], tag_starts[tag]/len(data.training_set.Y))\n",
    "    model.add_transition(s[tag], model.end, tag_ends[tag]/tag_unigrams[tag])\n",
    "    \n",
    "for (tag1, tag2) in tag_bigrams:\n",
    "    model.add_transition(s[tag1], s[tag2], tag_bigrams[(tag1,tag2)]/tag_unigrams[tag1])\n",
    "\n",
    "model.bake()"
   ]
  },
  {
   "cell_type": "code",
   "execution_count": 50,
   "metadata": {
    "ExecuteTime": {
     "end_time": "2021-08-11T18:42:29.257588Z",
     "start_time": "2021-08-11T18:42:27.460714Z"
    },
    "scrolled": true
   },
   "outputs": [
    {
     "name": "stdout",
     "output_type": "stream",
     "text": [
      "training accuracy basic hmm model: 97.54%\n",
      "testing accuracy basic hmm model: 95.95%\n"
     ]
    }
   ],
   "source": [
    "hmm_training_acc = accuracy(data.training_set.X, data.training_set.Y, model)\n",
    "print(\"training accuracy basic hmm model: {:.2f}%\".format(100 * hmm_training_acc))\n",
    "\n",
    "hmm_testing_acc = accuracy(data.testing_set.X, data.testing_set.Y, model)\n",
    "print(\"testing accuracy basic hmm model: {:.2f}%\".format(100 * hmm_testing_acc))"
   ]
  },
  {
   "cell_type": "markdown",
   "metadata": {},
   "source": [
    "### Decoding"
   ]
  },
  {
   "cell_type": "code",
   "execution_count": 51,
   "metadata": {
    "ExecuteTime": {
     "end_time": "2021-08-11T18:42:53.973125Z",
     "start_time": "2021-08-11T18:42:53.953150Z"
    }
   },
   "outputs": [
    {
     "name": "stdout",
     "output_type": "stream",
     "text": [
      "Sent key: b100-56612\n",
      "\n",
      "예측:\n",
      "-----------------\n",
      "['PRON', 'VERB', 'ADV', 'VERB', 'PRON', '.', 'ADP', 'PRON', 'VERB', 'VERB', 'PRT', 'DET', 'ADJ', 'NOUN', 'ADP', 'DET', 'ADJ', 'NOUN', '.']\n",
      "\n",
      "실제:\n",
      "--------------\n",
      "('PRON', 'VERB', 'ADV', 'VERB', 'PRON', '.', 'ADP', 'PRON', 'VERB', 'VERB', 'PRT', 'DET', 'ADJ', 'NOUN', 'ADP', 'DET', 'ADJ', 'NOUN', '.')\n",
      "\n",
      "\n",
      "Sent key: b100-47330\n",
      "\n",
      "예측:\n",
      "-----------------\n",
      "['ADV', 'VERB', 'PRON', 'VERB', 'ADV', '.', '.', '.']\n",
      "\n",
      "실제:\n",
      "--------------\n",
      "('ADV', 'VERB', 'PRON', 'VERB', 'ADV', '.', '.', '.')\n",
      "\n",
      "\n",
      "Sent key: b100-36695\n",
      "\n",
      "예측:\n",
      "-----------------\n",
      "['ADJ', 'NOUN', 'ADP', 'ADJ', 'NOUN', 'ADP', 'NOUN', 'NOUN', 'ADP', 'DET', 'ADJ', '.', 'DET', 'NOUN', 'VERB', 'PRT', '.', 'VERB', 'DET', 'NUM', 'NOUN', 'ADP', 'DET', 'VERB', 'NOUN', '.', 'CONJ', '.', 'VERB', 'DET', 'ADJ', 'NOUN', 'PRT', 'VERB', 'PRON', 'PRT', 'ADP', 'PRON', '.', '.', 'ADP', 'NOUN', 'NOUN', 'VERB', 'DET', 'ADJ', 'NOUN', 'ADP', 'NOUN', 'NOUN', 'ADP', 'ADV', 'VERB', '.', 'DET', 'NOUN', 'ADP', 'DET', 'NOUN', 'ADP', 'CONJ', 'ADP', 'DET', 'NOUN', '.', '.']\n",
      "\n",
      "실제:\n",
      "--------------\n",
      "('ADJ', 'NOUN', 'NOUN', 'ADJ', 'NOUN', 'ADP', 'NOUN', 'NOUN', 'ADP', 'DET', 'ADJ', '.', 'ADJ', 'NOUN', 'VERB', 'PRT', '.', 'VERB', 'DET', 'NUM', 'NOUN', 'ADP', 'DET', 'VERB', 'NOUN', '.', 'CONJ', '.', 'VERB', 'DET', 'ADJ', 'NOUN', 'PRT', 'VERB', 'PRON', 'PRT', 'ADP', 'PRON', '.', '.', 'ADP', 'NOUN', 'NOUN', 'VERB', 'DET', 'ADJ', 'NOUN', 'ADP', 'NOUN', 'NOUN', 'ADP', 'ADV', 'VERB', '.', 'DET', 'NOUN', 'ADP', 'DET', 'NOUN', 'ADP', 'CONJ', 'ADP', 'DET', 'NOUN', '.', '.')\n",
      "\n",
      "\n"
     ]
    }
   ],
   "source": [
    "for key in data.testing_set.keys[10:13]:\n",
    "    print(\"Sent key: {}\\n\".format(key))\n",
    "    print(\"예측:\\n-----------------\")\n",
    "    print(simplify_decoding(data.sentences[key].words, model))\n",
    "    print()\n",
    "    print(\"실제:\\n--------------\")\n",
    "    print(data.sentences[key].tags)\n",
    "    print(\"\\n\")"
   ]
  },
  {
   "cell_type": "code",
   "execution_count": null,
   "metadata": {},
   "outputs": [],
   "source": []
  },
  {
   "cell_type": "code",
   "execution_count": null,
   "metadata": {},
   "outputs": [],
   "source": []
  }
 ],
 "metadata": {
  "hide_input": false,
  "kernelspec": {
   "display_name": "Python 3",
   "language": "python",
   "name": "python3"
  },
  "language_info": {
   "codemirror_mode": {
    "name": "ipython",
    "version": 3
   },
   "file_extension": ".py",
   "mimetype": "text/x-python",
   "name": "python",
   "nbconvert_exporter": "python",
   "pygments_lexer": "ipython3",
   "version": "3.8.5"
  },
  "toc": {
   "base_numbering": 1,
   "nav_menu": {},
   "number_sections": true,
   "sideBar": true,
   "skip_h1_title": false,
   "title_cell": "Table of Contents",
   "title_sidebar": "Contents",
   "toc_cell": false,
   "toc_position": {},
   "toc_section_display": true,
   "toc_window_display": false
  },
  "varInspector": {
   "cols": {
    "lenName": 16,
    "lenType": 16,
    "lenVar": 40
   },
   "kernels_config": {
    "python": {
     "delete_cmd_postfix": "",
     "delete_cmd_prefix": "del ",
     "library": "var_list.py",
     "varRefreshCmd": "print(var_dic_list())"
    },
    "r": {
     "delete_cmd_postfix": ") ",
     "delete_cmd_prefix": "rm(",
     "library": "var_list.r",
     "varRefreshCmd": "cat(var_dic_list()) "
    }
   },
   "types_to_exclude": [
    "module",
    "function",
    "builtin_function_or_method",
    "instance",
    "_Feature"
   ],
   "window_display": false
  }
 },
 "nbformat": 4,
 "nbformat_minor": 2
}
